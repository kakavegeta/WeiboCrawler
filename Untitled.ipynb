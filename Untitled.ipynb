{
 "cells": [
  {
   "cell_type": "code",
   "execution_count": 2,
   "metadata": {},
   "outputs": [],
   "source": [
    "import requests\n",
    "\n",
    "url = 'https://login.sina.com.cn/sso/prelogin.php?entry=weibo&callback=sinaSSOController.preloginCallBack&su=YTQ1NTA3NTQ2OCU0MDE2My5jb20%3D&rsakt=mod&checkpin=1&client=ssologin.js(v1.4.19)&_=1540699012219'\n",
    "r = requests.get(url)\n"
   ]
  },
  {
   "cell_type": "code",
   "execution_count": 3,
   "metadata": {},
   "outputs": [
    {
     "data": {
      "text/plain": [
       "'sinaSSOController.preloginCallBack({\"retcode\":0,\"servertime\":1540699955,\"pcid\":\"gz-af08d2e6dd7a79ad86ce73848cf9531a6209\",\"nonce\":\"5V0U7W\",\"pubkey\":\"EB2A38568661887FA180BDDB5CABD5F21C7BFD59C090CB2D245A87AC253062882729293E5506350508E7F9AA3BB77F4333231490F915F6D63C55FE2F08A49B353F444AD3993CACC02DB784ABBB8E42A9B1BBFFFB38BE18D78E87A0E41B9B8F73A928EE0CCEE1F6739884B9777E4FE9E88A1BBE495927AC4A799B3181D6442443\",\"rsakv\":\"1330428213\",\"is_openlock\":0,\"showpin\":0,\"exectime\":10})'"
      ]
     },
     "execution_count": 3,
     "metadata": {},
     "output_type": "execute_result"
    }
   ],
   "source": [
    "r.text"
   ]
  },
  {
   "cell_type": "code",
   "execution_count": 25,
   "metadata": {},
   "outputs": [
    {
     "data": {
      "text/plain": [
       "b'sinaSSOController.preloginCallBack({\"retcode\":0,\"servertime\":1540701179,\"pcid\":\"gz-9fb1fc517f64ea5172e037c476578fcf6bd8\",\"nonce\":\"5S70PV\",\"pubkey\":\"EB2A38568661887FA180BDDB5CABD5F21C7BFD59C090CB2D245A87AC253062882729293E5506350508E7F9AA3BB77F4333231490F915F6D63C55FE2F08A49B353F444AD3993CACC02DB784ABBB8E42A9B1BBFFFB38BE18D78E87A0E41B9B8F73A928EE0CCEE1F6739884B9777E4FE9E88A1BBE495927AC4A799B3181D6442443\",\"rsakv\":\"1330428213\",\"exectime\":57})'"
      ]
     },
     "execution_count": 25,
     "metadata": {},
     "output_type": "execute_result"
    }
   ],
   "source": [
    "url = 'https://login.sina.com.cn/sso/prelogin.php?entry=weibo&callback=sinaSSOController.preloginCallBack&rsakt=mod&checkpin=1&client=ssologin.js(v1.4.19)'\n",
    "r = requests.get(url)\n",
    "r.content"
   ]
  },
  {
   "cell_type": "code",
   "execution_count": 26,
   "metadata": {},
   "outputs": [
    {
     "data": {
      "text/plain": [
       "b'sinaSSOController.preloginCallBack({\"retcode\":0,\"servertime\":1540701179,\"pcid\":\"gz-9fb1fc517f64ea5172e037c476578fcf6bd8\",\"nonce\":\"5S70PV\",\"pubkey\":\"EB2A38568661887FA180BDDB5CABD5F21C7BFD59C090CB2D245A87AC253062882729293E5506350508E7F9AA3BB77F4333231490F915F6D63C55FE2F08A49B353F444AD3993CACC02DB784ABBB8E42A9B1BBFFFB38BE18D78E87A0E41B9B8F73A928EE0CCEE1F6739884B9777E4FE9E88A1BBE495927AC4A799B3181D6442443\",\"rsakv\":\"1330428213\",\"exectime\":57})'"
      ]
     },
     "execution_count": 26,
     "metadata": {},
     "output_type": "execute_result"
    }
   ],
   "source": [
    "r.content"
   ]
  },
  {
   "cell_type": "code",
   "execution_count": 27,
   "metadata": {},
   "outputs": [],
   "source": [
    "import re\n",
    "import json\n",
    "json_re = re.compile(\"\\(({.*})\\)\")\n",
    "data = json.loads(json_re.findall(r.text)[0])"
   ]
  },
  {
   "cell_type": "code",
   "execution_count": 28,
   "metadata": {},
   "outputs": [
    {
     "data": {
      "text/plain": [
       "{'exectime': 57,\n",
       " 'nonce': '5S70PV',\n",
       " 'pcid': 'gz-9fb1fc517f64ea5172e037c476578fcf6bd8',\n",
       " 'pubkey': 'EB2A38568661887FA180BDDB5CABD5F21C7BFD59C090CB2D245A87AC253062882729293E5506350508E7F9AA3BB77F4333231490F915F6D63C55FE2F08A49B353F444AD3993CACC02DB784ABBB8E42A9B1BBFFFB38BE18D78E87A0E41B9B8F73A928EE0CCEE1F6739884B9777E4FE9E88A1BBE495927AC4A799B3181D6442443',\n",
       " 'retcode': 0,\n",
       " 'rsakv': '1330428213',\n",
       " 'servertime': 1540701179}"
      ]
     },
     "execution_count": 28,
     "metadata": {},
     "output_type": "execute_result"
    }
   ],
   "source": [
    "data"
   ]
  },
  {
   "cell_type": "code",
   "execution_count": 59,
   "metadata": {},
   "outputs": [],
   "source": [
    "import requests\n",
    "from bs4 import BeautifulSoup\n",
    "import lxml\n"
   ]
  },
  {
   "cell_type": "code",
   "execution_count": 7,
   "metadata": {},
   "outputs": [],
   "source": [
    "source = \"\"\"<?xml version=\"1.0\" encoding=\"UTF-8\"?><!DOCTYPE html PUBLIC \"-//W3C//DTD XHTML 1.0 Strict//EN\" \"http://www.w3.org/TR/xhtml1/DTD/xhtml1-strict.dtd\"><html xmlns=\"http://www.w3.org/1999/xhtml\"><head><meta http-equiv=\"Content-Type\" content=\"text/html; charset=utf-8\" /><meta http-equiv=\"Cache-Control\" content=\"no-cache\"/><meta id=\"viewport\" name=\"viewport\" content=\"width=device-width,initial-scale=1.0,minimum-scale=1.0, maximum-scale=2.0\" /><link rel=\"icon\" sizes=\"any\" mask href=\"https://h5.sinaimg.cn/upload/2015/05/15/28/WeiboLogoCh.svg\" color=\"black\"><meta name=\"MobileOptimized\" content=\"240\"/><title>北京西城的微博</title><style type=\"text/css\" id=\"internalStyle\">html,body,p,form,div,table,textarea,input,span,select{font-size:12px;word-wrap:break-word;}body{background:#F8F9F9;color:#000;padding:1px;margin:1px;}table,tr,td{border-width:0px;margin:0px;padding:0px;}form{margin:0px;padding:0px;border:0px;}textarea{border:1px solid #96c1e6}textarea{width:95%;}a,.tl{color:#2a5492;text-decoration:underline;}/*a:link {color:#023298}*/.k{color:#2a5492;text-decoration:underline;}.kt{color:#F00;}.ib{border:1px solid #C1C1C1;}.pm,.pmy{clear:both;background:#ffffff;color:#676566;border:1px solid #b1cee7;padding:3px;margin:2px 1px;overflow:hidden;}.pms{clear:both;background:#c8d9f3;color:#666666;padding:3px;margin:0 1px;overflow:hidden;}.pmst{margin-top: 5px;}.pmsl{clear:both;padding:3px;margin:0 1px;overflow:hidden;}.pmy{background:#DADADA;border:1px solid #F8F8F8;}.t{padding:0px;margin:0px;height:35px;}.b{background:#e3efff;text-align:center;color:#2a5492;clear:both;padding:4px;}.bl{color:#2a5492;}.n{clear:both;background:#436193;color:#FFF;padding:4px; margin: 1px;}.nt{color:#b9e7ff;}.nl{color:#FFF;text-decoration:none;}.nfw{clear:both;border:1px solid #BACDEB;padding:3px;margin:2px 1px;}.s{border-bottom:1px dotted #666666;margin:3px;clear:both;}.tip{clear:both; background:#c8d9f3;color:#676566;border:1px solid #BACDEB;padding:3px;margin:2px 1px;}.tip2{color:#000000;padding:2px 3px;clear:both;}.ps{clear:both;background:#FFF;color:#676566;border:1px solid #BACDEB;padding:3px;margin:2px 1px;}.tm{background:#feffe5;border:1px solid #e6de8d;padding:4px;}.tm a{color:#ba8300;}.tmn{color:#f00}.tk{color:#ffffff}.tc{color:#63676A;}.c{padding:2px 5px;}.c div a img{border:1px solid #C1C1C1;}.ct{color:#9d9d9d;font-style:italic;}.cmt{color:#9d9d9d;}.ctt{color:#000;}.cc{color:#2a5492;}.nk{color:#2a5492;}.por {border: 1px solid #CCCCCC;height:50px;width:50px;}.me{color:#000000;background:#FEDFDF;padding:2px 5px;}.pa{padding:2px 4px;}.nm{margin:10px 5px;padding:2px;}.hm{padding:5px;background:#FFF;color:#63676A;}.u{margin:2px 1px;background:#ffffff;border:1px solid #b1cee7;}.ut{padding:2px 3px;}.cd{text-align:center;}.r{color:#F00;}.g{color:#0F0;}.bn{background: transparent;border: 0 none;text-align: left;padding-left: 0;}</style><script>if(top != self){top.location = self.location;}</script></head><body><div class=\"tm\"><a href=\"https://weibo.cn/msg/?unread=2\"><span class=\"tmn\">2</span>私信</a>&nbsp;&nbsp;<a href=\"https://weibo.cn/msg/clearAllUnread?type=dcm&amp;rl=1\"><img src=\"https://h5.sinaimg.cn/upload/2016/12/30/125/5366.gif\" alt=\"[X]\" /></a><br/></div><div class=\"n\" style=\"padding: 6px 4px;\"><a href=\"https://weibo.cn/?tf=5_009\" class=\"nl\">首页<span class=\"tk\">!</span></a>|<a href=\"https://weibo.cn/msg/?tf=5_010\" class=\"nl\">消息</a>|<a href=\"https://huati.weibo.cn\" class=\"nl\">话题</a>|<a href=\"https://weibo.cn/search/?tf=5_012\" class=\"nl\">搜索</a>|<a href=\"/2208751963/profile?mp=2267&amp;page=1&amp;rand=9533&amp;p=r\" class=\"nl\">刷新</a></div><div class=\"c tip\"><a href=\"https://m.weibo.cn\" id=\"top\" class=\"tl\">手机微博触屏版,点击前往>></a></div><div class=\"u\"><table><tr><td valign=\"top\"><a href=\"/2208751963/avatar?rl=1\"><img src=\"http://tva4.sinaimg.cn/crop.48.17.203.203.50/83a6e15bjw1ec33tq8lhvj208s08kaae.jpg\" alt=\"头像\" class=\"por\" /></a></td><td valign=\"top\"><div class=\"ut\"><span class=\"ctt\">北京西城<img src=\"https://h5.sinaimg.cn/upload/2016/05/26/319/5337.gif\" alt=\"V\"/>&nbsp;男/北京    &nbsp;    <a href=\"/attention/add?uid=2208751963&amp;rl=1&amp;st=f6b15e\">加关注</a></span><br /><span class=\"ctt\">认证：北京市西城区人民政府新闻办公室官方微博</span><br /><span class=\"ctt\" style=\"word-break:break-all; width:50px;\">政治中心、文化中心的核心承载区，历史文化名城保护的重点地区...</span><br /><a href=\"/im/chat?uid=2208751963&amp;rl=1\">私信</a>&nbsp;<a href=\"/2208751963/info\">资料</a>&nbsp;<a href=\"/2208751963/operation?rl=0\">操作</a>&nbsp;<a href=\"/attgroup/special?fuid=2208751963&amp;st=f6b15e\">特别关注</a>&nbsp;<a href=\"http://new.vip.weibo.cn/vippay/payother?present=1&amp;action=comfirmTime&amp;uid=2208751963\">送Ta会员</a></div></td></tr></table><div class=\"tip2\"><span class=\"tc\">微博[22657]</span>&nbsp;<a href=\"/2208751963/follow\">关注[398]</a>&nbsp;<a href=\"/2208751963/fans\">粉丝[885255]</a>&nbsp;<a href=\"/attgroup/opening?uid=2208751963\">分组[1]</a>&nbsp;<a href=\"/at/weibo?uid=2208751963\">@他的</a></div></div><div class=\"pmst\"><span class=\"pms\">&nbsp;微博&nbsp;</span><span class=\"pmsl\">&nbsp;<a href=\"/2208751963/photo?tf=6_008\">相册</a>&nbsp;</span></div><div class=\"pms\" >全部-<a href=\"/2208751963/profile?filter=1\">原创</a>-<a href=\"/2208751963/profile?filter=2\">图片</a>-<a href=\"/attgroup/opening?uid=2208751963\">分组</a>-<a href=\"/2208751963/search?f=u&amp;rl=1\">筛选</a></div><div class=\"c\" id=\"M_GElxWc2Nf\"><div><img alt=\"M\" src=\"https://h5.sinaimg.cn/upload/2016/05/26/319/donate_btn_s.png\" />&nbsp;<a href=\"/member/pay?F=W_tq_wbzd_01\">开通会员</a><br/>[<span class=\"kt\">置顶</span>]<span class=\"cmt\">会员特权</span>&nbsp;<span class=\"ctt\">【北京市西城区2019年春节景观布置设计方案征集公告】为迎接2019年春节、元宵节的到来，西城区拟在主要大街、路口等重要地区利用树木、绿地、灯杆等园林市政设施，采用悬挂灯笼、中国结等形式，营造欢乐祥和的喜庆氛围。北京市西城区园林市政管理中心现面向全社会征集西城区春节景观布置设计方案。 ​​​</span></div><div><a href=\"https://weibo.cn/mblog/pic/GElxWc2Nf?rl=1\"><img src=\"http://wx1.sinaimg.cn/wap180/83a6e15bly1fwbc7o9hroj20cd2zce6i.jpg\" alt=\"图片\" class=\"ib\" /></a>&nbsp;<a href=\"https://weibo.cn/mblog/oripic?id=GElxWc2Nf&amp;u=83a6e15bly1fwbc7o9hroj20cd2zce6i\">原图</a>&nbsp;<a href=\"https://weibo.cn/attitude/GElxWc2Nf/add?uid=6806048449&amp;rl=1&amp;st=f6b15e\">赞[23]</a>&nbsp;<a href=\"https://weibo.cn/repost/GElxWc2Nf?uid=2208751963&amp;rl=1\">转发[30]</a>&nbsp;<a href=\"https://weibo.cn/comment/GElxWc2Nf?uid=2208751963&amp;rl=1#cmtfrm\" class=\"cc\">评论[29]</a>&nbsp;<a href=\"https://weibo.cn/fav/addFav/GElxWc2Nf?rl=1&amp;st=f6b15e\">收藏</a><!---->&nbsp;<span class=\"ct\">10月17日 17:15&nbsp;来自政务直通车</span></div></div><div class=\"s\"></div><div class=\"c\" id=\"M_H0lXEs07x\"><div><span class=\"ctt\"><a href=\"https://weibo.cn/pages/100808topic?extparam=EasyCaf%C3%A9&amp;from=feed\">#EasyCafé#</a>【惊艳！新疆开启胡杨林模式，你想去看看吗？】深秋十月，是观赏胡杨最好的时节。在新疆巴州尉犁县、轮台县等地，胡杨林黄叶绚烂。胡杨或扎根水中，与水中倒影相映成趣；或生长在大漠旁，与漫天黄沙交相辉映。<a href=\"https://m.weibo.cn/s/video/show?object_id=2017607:c86e46fb274f7c2b174cb97c0255d4e9&amp;fromWap=1&amp;ep=H0lXEs07x%2C2208751963%2CH0lXEs07x%2C2208751963\">中新视频的秒拍视频</a> ​​​</span>&nbsp;<a href=\"https://weibo.cn/attitude/H0lXEs07x/add?uid=6806048449&amp;rl=1&amp;st=f6b15e\">赞[1]</a>&nbsp;<a href=\"https://weibo.cn/repost/H0lXEs07x?uid=2208751963&amp;rl=1\">转发[2]</a>&nbsp;<a href=\"https://weibo.cn/comment/H0lXEs07x?uid=2208751963&amp;rl=1#cmtfrm\" class=\"cc\">评论[1]</a>&nbsp;<a href=\"https://weibo.cn/fav/addFav/H0lXEs07x?rl=1&amp;st=f6b15e\">收藏</a><!---->&nbsp;<span class=\"ct\">今天 15:30&nbsp;来自政务直通车</span></div></div><div class=\"s\"></div><div class=\"c\" id=\"M_H0kob6OSX\"><div><span class=\"ctt\"><a href=\"https://weibo.cn/pages/100808topic?extparam=%E7%B2%BE%E5%BD%A9%E6%92%AD%E6%8A%A5&amp;from=feed\">#精彩播报#</a> 【4.5万个就业岗位服务高校毕业生】“2019年北京地区高校毕业生就业服务季活动”于近日正式启动，参加招聘的用人单位达3000余家，提供就业岗位4.5万个。毕业生可登录北京市人力资源和社会保障局官网(www.bjrbj.gov.cn/rlzy)、“好工作”微信公众平台等平台查询了解相关就业信息。 ​​​</span>&nbsp;<a href=\"https://weibo.cn/attitude/H0kob6OSX/add?uid=6806048449&amp;rl=1&amp;st=f6b15e\">赞[2]</a>&nbsp;<a href=\"https://weibo.cn/repost/H0kob6OSX?uid=2208751963&amp;rl=1\">转发[2]</a>&nbsp;<a href=\"https://weibo.cn/comment/H0kob6OSX?uid=2208751963&amp;rl=1#cmtfrm\" class=\"cc\">评论[1]</a>&nbsp;<a href=\"https://weibo.cn/fav/addFav/H0kob6OSX?rl=1&amp;st=f6b15e\">收藏</a><!---->&nbsp;<span class=\"ct\">今天 11:30&nbsp;来自政务直通车</span></div></div><div class=\"s\"></div><div class=\"c\" id=\"M_H0jBo5cCf\"><div><span class=\"ctt\"><a href=\"https://weibo.cn/pages/100808topic?extparam=%E8%A5%BF%E5%9F%8E%E7%8E%AF%E4%BF%9D&amp;from=feed\">#西城环保#</a>【环保督察案件回头看】 案件：11-20-12号案件反映月坛街道莲花池东路乙3号、丙3号楼前污水井阻塞、污水横流；楼前出口处人行道路塌陷；楼根处堆放垃圾；帕米尔食府的楼顶、楼前存在违建，装修时把东边绿化所垒的大理石损坏了等情况。 ​​​</span></div><div><a href=\"https://weibo.cn/mblog/pic/H0jBo5cCf?rl=1\"><img src=\"http://wx3.sinaimg.cn/wap180/83a6e15bly1fwpzu0zjodj20c80aqjuz.jpg\" alt=\"图片\" class=\"ib\" /></a>&nbsp;<a href=\"https://weibo.cn/mblog/oripic?id=H0jBo5cCf&amp;u=83a6e15bly1fwpzu0zjodj20c80aqjuz\">原图</a>&nbsp;<a href=\"https://weibo.cn/attitude/H0jBo5cCf/add?uid=6806048449&amp;rl=1&amp;st=f6b15e\">赞[1]</a>&nbsp;<a href=\"https://weibo.cn/repost/H0jBo5cCf?uid=2208751963&amp;rl=1\">转发[2]</a>&nbsp;<a href=\"https://weibo.cn/comment/H0jBo5cCf?uid=2208751963&amp;rl=1#cmtfrm\" class=\"cc\">评论[1]</a>&nbsp;<a href=\"https://weibo.cn/fav/addFav/H0jBo5cCf?rl=1&amp;st=f6b15e\">收藏</a><!---->&nbsp;<span class=\"ct\">今天 09:30&nbsp;来自政务直通车</span></div></div><div class=\"s\"></div><div class=\"c\" id=\"M_H0iOFfuev\"><div><span class=\"ctt\"><a href=\"https://weibo.cn/pages/100808topic?extparam=%E7%B2%BE%E5%BD%A9%E6%92%AD%E6%8A%A5&amp;from=feed\">#精彩播报#</a>【我区今年流感疫苗开始接种】此次接种，我区共设置了21家免费流感疫苗接种门诊。按照知情同意、自愿自费的原则，提供自费流感疫苗的接种服务，期间接种门诊每日开诊，周六、周日不间断，以方便居民接种。本次流感疫苗接种工作所使用的疫苗，均由北京市疾病预防控制中心统一招标采购。 ​​​</span></div><div><a href=\"https://weibo.cn/mblog/pic/H0iOFfuev?rl=1\"><img src=\"http://wx4.sinaimg.cn/wap180/83a6e15bly1fwpwd4sobbj20b408cmxf.jpg\" alt=\"图片\" class=\"ib\" /></a>&nbsp;<a href=\"https://weibo.cn/mblog/oripic?id=H0iOFfuev&amp;u=83a6e15bly1fwpwd4sobbj20b408cmxf\">原图</a>&nbsp;<a href=\"https://weibo.cn/attitude/H0iOFfuev/add?uid=6806048449&amp;rl=1&amp;st=f6b15e\">赞[3]</a>&nbsp;<a href=\"https://weibo.cn/repost/H0iOFfuev?uid=2208751963&amp;rl=1\">转发[4]</a>&nbsp;<a href=\"https://weibo.cn/comment/H0iOFfuev?uid=2208751963&amp;rl=1#cmtfrm\" class=\"cc\">评论[5]</a>&nbsp;<a href=\"https://weibo.cn/fav/addFav/H0iOFfuev?rl=1&amp;st=f6b15e\">收藏</a><!---->&nbsp;<span class=\"ct\">今天 07:30&nbsp;来自政务直通车</span></div></div><div class=\"s\"></div><div class=\"c\" id=\"M_H0djLBgD7\"><div><span class=\"ctt\"><a href=\"https://weibo.cn/pages/100808topic?extparam=%E8%A5%BF%E5%9F%8E%E7%8E%AF%E4%BF%9D&amp;from=feed\">#西城环保#</a>【环保督察案件回头看】案件：11-02-20号案件反映新街口街道前抄手胡同25号北墙外长期存在违法建设，希望拆除。 ​​​</span></div><div><a href=\"https://weibo.cn/mblog/pic/H0djLBgD7?rl=1\"><img src=\"http://wx2.sinaimg.cn/wap180/83a6e15bly1fwp839i36cj20cd0e0jw2.jpg\" alt=\"图片\" class=\"ib\" /></a>&nbsp;<a href=\"https://weibo.cn/mblog/oripic?id=H0djLBgD7&amp;u=83a6e15bly1fwp839i36cj20cd0e0jw2\">原图</a>&nbsp;<a href=\"https://weibo.cn/attitude/H0djLBgD7/add?uid=6806048449&amp;rl=1&amp;st=f6b15e\">赞[7]</a>&nbsp;<a href=\"https://weibo.cn/repost/H0djLBgD7?uid=2208751963&amp;rl=1\">转发[6]</a>&nbsp;<a href=\"https://weibo.cn/comment/H0djLBgD7?uid=2208751963&amp;rl=1#cmtfrm\" class=\"cc\">评论[5]</a>&nbsp;<a href=\"https://weibo.cn/fav/addFav/H0djLBgD7?rl=1&amp;st=f6b15e\">收藏</a><!---->&nbsp;<span class=\"ct\">10月29日 17:30&nbsp;来自政务直通车</span></div></div><div class=\"s\"></div><div class=\"c\" id=\"M_H0cVoaPgE\"><div><span class=\"ctt\"><a href=\"https://weibo.cn/pages/100808topic?extparam=%E7%B2%BE%E5%BD%A9%E6%92%AD%E6%8A%A5&amp;from=feed\">#精彩播报#</a>【新街口街道举办职工趣味运动会】 近日，以“悦动新街口·共享新时代”为主题的新街口街道职工趣味运动会在北京市35中体育场举办。包括街道总工会所属基层工会、社会工作党委所属企业党组织、新街口商会所属会员单位在内的300余人参加了这场妙趣横生的运动会。 ​​​</span></div><div><a href=\"https://weibo.cn/mblog/pic/H0cVoaPgE?rl=1\"><img src=\"http://wx3.sinaimg.cn/wap180/83a6e15bly1fwp6cr6o7tj20b407fmxg.jpg\" alt=\"图片\" class=\"ib\" /></a>&nbsp;<a href=\"https://weibo.cn/mblog/oripic?id=H0cVoaPgE&amp;u=83a6e15bly1fwp6cr6o7tj20b407fmxg\">原图</a>&nbsp;<a href=\"https://weibo.cn/attitude/H0cVoaPgE/add?uid=6806048449&amp;rl=1&amp;st=f6b15e\">赞[8]</a>&nbsp;<a href=\"https://weibo.cn/repost/H0cVoaPgE?uid=2208751963&amp;rl=1\">转发[7]</a>&nbsp;<a href=\"https://weibo.cn/comment/H0cVoaPgE?uid=2208751963&amp;rl=1#cmtfrm\" class=\"cc\">评论[8]</a>&nbsp;<a href=\"https://weibo.cn/fav/addFav/H0cVoaPgE?rl=1&amp;st=f6b15e\">收藏</a><!---->&nbsp;<span class=\"ct\">10月29日 16:30&nbsp;来自政务直通车</span></div></div><div class=\"s\"></div><div class=\"c\" id=\"M_H0cKgw5uO\"><div><span class=\"cmt\">转发了&nbsp;<a href=\"https://weibo.cn/bjssww\">北京市商务委</a><img src=\"https://h5.sinaimg.cn/upload/2016/05/26/319/5337.gif\" alt=\"V\"/><img src=\"https://h5.sinaimg.cn/upload/2016/05/26/319/donate_btn_s.png\" alt=\"M\"/>&nbsp;的微博:</span><span class=\"ctt\">【迎接首届中国国际进口博览会 北京市交易团4741家企业和机构整装待发】首届<a href=\"https://weibo.cn/pages/100808topic?extparam=%E4%B8%AD%E5%9B%BD%E5%9B%BD%E9%99%85%E8%BF%9B%E5%8F%A3%E5%8D%9A%E8%A7%88%E4%BC%9A&amp;from=feed\">#中国国际进口博览会#</a>将于2018年11月5日—10日在上海举办。10月29日上午，北京市人民政府新闻办公室联合北京市商务委员会（口岸办）召开中国国际进口博览会北京市交易团新闻发布会，介绍了北京市交易团有关情况。整装待发 ​​​&nbsp;<a href='/comment/H0bWe9Mrj?ckAll=1'>全文</a></span></div><div><a href=\"https://weibo.cn/mblog/pic/H0bWe9Mrj?rl=1\"><img src=\"http://wx1.sinaimg.cn/wap180/9012c48fly1fwp1zo4o6uj20dy2imqjg.jpg\" alt=\"图片\" class=\"ib\" /></a>&nbsp;<a href=\"https://weibo.cn/mblog/oripic?id=H0bWe9Mrj&amp;u=9012c48fly1fwp1zo4o6uj20dy2imqjg\">原图</a>&nbsp;<span class=\"cmt\">赞[6]</span>&nbsp;<span class=\"cmt\">原文转发[27]</span>&nbsp;<a href=\"https://weibo.cn/comment/H0bWe9Mrj?rl=1#cmtfrm\" class=\"cc\">原文评论[9]</a><!----></div><div><span class=\"cmt\">转发理由:</span>转发微博&nbsp;&nbsp;<a href=\"https://weibo.cn/attitude/H0cKgw5uO/add?uid=6806048449&amp;rl=1&amp;st=f6b15e\">赞[5]</a>&nbsp;<a href=\"https://weibo.cn/repost/H0cKgw5uO?uid=2208751963&amp;rl=1\">转发[3]</a>&nbsp;<a href=\"https://weibo.cn/comment/H0cKgw5uO?uid=2208751963&amp;rl=1#cmtfrm\" class=\"cc\">评论[2]</a>&nbsp;<a href=\"https://weibo.cn/fav/addFav/H0cKgw5uO?rl=1&amp;st=f6b15e\">收藏</a><!---->&nbsp;<span class=\"ct\">10月29日 16:02&nbsp;来自360安全浏览器</span></div></div><div class=\"s\"></div><div class=\"c\" id=\"M_H0cx1jDpY\"><div><span class=\"ctt\"><a href=\"https://weibo.cn/pages/100808topic?extparam=EasyCaf%C3%A9&amp;from=feed\">#EasyCafé#</a>【三连击！女子网购被骗1900元，求助黑客被骗7万元，报警后找“网络高手”又被骗6000元…】今年7月，苏州黄女士在微信买手机被骗1900元。她上网求助“黑客”，对方称要汇钱“钓鱼”骗走7万多元。9月，她报警求助，等待警方破案时，她又找了一个“网络高手”，结果白花6000多元…目前，此案仍 ​​​&nbsp;<a href='/comment/H0cx1jDpY?ckAll=1'>全文</a></span>&nbsp;<a href=\"https://weibo.cn/attitude/H0cx1jDpY/add?uid=6806048449&amp;rl=1&amp;st=f6b15e\">赞[8]</a>&nbsp;<a href=\"https://weibo.cn/repost/H0cx1jDpY?uid=2208751963&amp;rl=1\">转发[7]</a>&nbsp;<a href=\"https://weibo.cn/comment/H0cx1jDpY?uid=2208751963&amp;rl=1#cmtfrm\" class=\"cc\">评论[6]</a>&nbsp;<a href=\"https://weibo.cn/fav/addFav/H0cx1jDpY?rl=1&amp;st=f6b15e\">收藏</a><!---->&nbsp;<span class=\"ct\">10月29日 15:30&nbsp;来自政务直通车</span></div></div><div class=\"s\"></div><div class=\"c\" id=\"M_H0aXz7bHK\"><div><span class=\"ctt\"><a href=\"https://weibo.cn/pages/100808topic?extparam=%E7%B2%BE%E5%BD%A9%E6%92%AD%E6%8A%A5&amp;from=feed\">#精彩播报#</a>【12部精彩剧目打造艺术盛宴】随着音乐剧《诗经·采薇》的上演，“第三届北京天桥音乐剧演出季”在天桥艺术中心拉开帷幕。本届北京天桥音乐剧演出季将演绎不同风格和流派的12部音乐剧。演出季划分为4个单元，即国际经典、中国原创、海外授权中国版和校园演出。 ​​​</span></div><div><a href=\"https://weibo.cn/mblog/pic/H0aXz7bHK?rl=1\"><img src=\"http://wx3.sinaimg.cn/wap180/83a6e15bly1fwoxoh0h18j20nc0tmjt0.jpg\" alt=\"图片\" class=\"ib\" /></a>&nbsp;<a href=\"https://weibo.cn/mblog/oripic?id=H0aXz7bHK&amp;u=83a6e15bly1fwoxoh0h18j20nc0tmjt0\">原图</a>&nbsp;<a href=\"https://weibo.cn/attitude/H0aXz7bHK/add?uid=6806048449&amp;rl=1&amp;st=f6b15e\">赞[11]</a>&nbsp;<a href=\"https://weibo.cn/repost/H0aXz7bHK?uid=2208751963&amp;rl=1\">转发[8]</a>&nbsp;<a href=\"https://weibo.cn/comment/H0aXz7bHK?uid=2208751963&amp;rl=1#cmtfrm\" class=\"cc\">评论[9]</a>&nbsp;<a href=\"https://weibo.cn/fav/addFav/H0aXz7bHK?rl=1&amp;st=f6b15e\">收藏</a><!---->&nbsp;<span class=\"ct\">10月29日 11:30&nbsp;来自政务直通车</span></div></div><div class=\"s\"></div><div class=\"c\" id=\"M_H0ab3hQFV\"><div><span class=\"ctt\"><a href=\"https://weibo.cn/pages/100808topic?extparam=%E7%B2%BE%E5%BD%A9%E6%92%AD%E6%8A%A5&amp;from=feed\">#精彩播报#</a>【展示非遗魅力 一招一式显活力】日前，“‘弘扬太极 武动人生’传统武术类非遗展示交流活动”在北京历代帝王庙景德门前举行。形意拳、通背拳、六合拳、少林八法拳、陈式太极拳等六大拳种传承人与区域內多支太极拳表演队在活动现场共同切磋技艺，促进了各非遗拳种之间的交流与互动。 ​​​</span></div><div><a href=\"https://weibo.cn/mblog/pic/H0ab3hQFV?rl=1\"><img src=\"http://wx1.sinaimg.cn/wap180/83a6e15bly1fwou83va7oj20b406cjrt.jpg\" alt=\"图片\" class=\"ib\" /></a>&nbsp;<a href=\"https://weibo.cn/mblog/oripic?id=H0ab3hQFV&amp;u=83a6e15bly1fwou83va7oj20b406cjrt\">原图</a>&nbsp;<a href=\"https://weibo.cn/attitude/H0ab3hQFV/add?uid=6806048449&amp;rl=1&amp;st=f6b15e\">赞[12]</a>&nbsp;<a href=\"https://weibo.cn/repost/H0ab3hQFV?uid=2208751963&amp;rl=1\">转发[11]</a>&nbsp;<a href=\"https://weibo.cn/comment/H0ab3hQFV?uid=2208751963&amp;rl=1#cmtfrm\" class=\"cc\">评论[11]</a>&nbsp;<a href=\"https://weibo.cn/fav/addFav/H0ab3hQFV?rl=1&amp;st=f6b15e\">收藏</a><!---->&nbsp;<span class=\"ct\">10月29日 09:30&nbsp;来自政务直通车</span></div></div><div class=\"s\"></div><div class=\"pa\" id=\"pagelist\"><form action=\"/2208751963/profile\" method=\"post\"><div><a href=\"/2208751963/profile?page=2\">下页</a>&nbsp;<input name=\"mp\" type=\"hidden\" value=\"2267\" /><input type=\"text\" name=\"page\" size=\"2\" style='-wap-input-format: \"*N\"' /><input type=\"submit\" value=\"跳页\" />&nbsp;1/2267页</div></form></div><div class=\"pm\"><form action=\"/search/\" method=\"post\"><div><input type=\"text\" name=\"keyword\" value=\"\" size=\"15\" /><input type=\"submit\" name=\"smblog\" value=\"搜微博\" /><input type=\"submit\" name=\"suser\" value=\"找人\" /><br/><span class=\"pmf\"><a href=\"/search/mblog/?keyword=%E4%BA%94%E5%A4%A7%E5%90%8D%E5%98%B4%E9%83%BD%E5%9B%A0%E7%99%8C%E7%97%87%E7%A6%BB%E4%B8%96&amp;rl=1\" class=\"k\">五大名嘴都因癌症离世</a>&nbsp;<a href=\"/search/mblog/?keyword=%E5%A8%81%E5%B0%BC%E6%96%AF%E8%A2%AB%E6%B7%B9%E4%BA%86&amp;rl=1\" class=\"k\">威尼斯被淹了</a>&nbsp;<a href=\"/search/mblog/?keyword=%E5%93%88%E6%96%87%E6%9C%8B%E5%8F%8B%E5%9C%88&amp;rl=1\" class=\"k\">哈文朋友圈</a>&nbsp;<a href=\"/search/mblog/?keyword=%E6%9D%8E%E4%BA%91%E8%BF%AA%E5%88%A0%E5%8D%9A&amp;rl=1\" class=\"k\">李云迪删博</a>&nbsp;<a href=\"/search/mblog/?keyword=11%E6%9C%88%E5%BF%85%E7%9C%8B+%E5%A5%87%E5%B9%BB%E7%A7%98%E5%A2%83&amp;rl=1\" class=\"k\">11月必看 奇幻秘境</a></span></div></form></div><div class=\"cd\"><a href=\"#top\"><img src=\"https://h5.sinaimg.cn/upload/2017/04/27/319/5e990ec2.gif\" alt=\"TOP\"/></a></div><div class=\"pms\"><a href=\"https://weibo.cn\">首页<span class=\"tk\">!</span></a>.<a href=\"https://weibo.cn/topic/240489\">反馈</a>.<a href=\"https://weibo.cn/page/91\">帮助</a>.<a  href=\"http://down.sina.cn/weibo/default/index/soft_id/1/mid/0\"  >客户端</a>.<a href=\"https://weibo.cn/spam/?rl=1&amp;type=3&amp;fuid=2208751963\" class=\"kt\">举报</a>.<a href=\"https://passport.sina.cn/sso/logout?r=https%3A%2F%2Fweibo.cn%2Fpub%2F%3Fvt%3D&amp;entry=mweibo\">退出</a></div><div class=\"c\">设置:<a href=\"https://weibo.cn/account/customize/skin?tf=7_005&amp;st=f6b15e\">皮肤</a>.<a href=\"https://weibo.cn/account/customize/pic?tf=7_006&amp;st=f6b15e\">图片</a>.<a href=\"https://weibo.cn/account/customize/pagesize?tf=7_007&amp;st=f6b15e\">条数</a>.<a href=\"https://weibo.cn/account/privacy/?tf=7_008&amp;st=f6b15e\">隐私</a></div><div class=\"c\">彩版|<a href=\"https://m.weibo.cn/?tf=7_010\">触屏</a>|<a href=\"https://weibo.cn/page/521?tf=7_011\">语音</a></div><div class=\"b\">weibo.cn[10-30 16:40]</div></body></html>\"\"\""
   ]
  },
  {
   "cell_type": "code",
   "execution_count": 125,
   "metadata": {},
   "outputs": [],
   "source": [
    "soup = BeautifulSoup(source, 'lxml')\n",
    "divs = soup.find_all('div',{'class':'c'})\n",
    "div = divs[6]\n"
   ]
  },
  {
   "cell_type": "code",
   "execution_count": 126,
   "metadata": {},
   "outputs": [
    {
     "data": {
      "text/plain": [
       "'15'"
      ]
     },
     "execution_count": 126,
     "metadata": {},
     "output_type": "execute_result"
    }
   ],
   "source": [
    "import re\n",
    "re.compile(r'赞\\[(\\d*)\\]').search(div.find_all('div')[-1].text).group(1)"
   ]
  },
  {
   "cell_type": "code",
   "execution_count": 127,
   "metadata": {},
   "outputs": [
    {
     "data": {
      "text/plain": [
       "'转发理由:转发微博\\xa0\\xa0赞[15]\\xa0转发[18]\\xa0评论[16]\\xa0收藏\\xa02017-10-04 08:49:32\\xa0来自iPhone 6'"
      ]
     },
     "execution_count": 127,
     "metadata": {},
     "output_type": "execute_result"
    }
   ],
   "source": [
    "div.find_all('div')[-1].text"
   ]
  },
  {
   "cell_type": "code",
   "execution_count": 129,
   "metadata": {},
   "outputs": [
    {
     "data": {
      "text/plain": [
       "'转发微博\\xa0\\xa0'"
      ]
     },
     "execution_count": 129,
     "metadata": {},
     "output_type": "execute_result"
    }
   ],
   "source": [
    "re.findall(r'</span>(.*?)<a', str(div.find_all('div')[-1]))[0]"
   ]
  },
  {
   "cell_type": "code",
   "execution_count": 22,
   "metadata": {},
   "outputs": [
    {
     "data": {
      "text/plain": [
       "'#月满中秋#【天桥街道中秋Style，干了这杯幸福鸡汤！】9月28日上午，由天桥街道主办的“美丽天桥 圆梦中秋”——2017年天桥街道迎中秋文艺演出在东方饭店举行。活动现场，独唱、模特表演、快板、京剧清唱和魔术等节目轮番登场。不光街道有节目，各社区的精彩内容也不少，详情→天桥街道中秋Style，干了这杯幸福鸡汤！\\u200b\\u200b\\u200b'"
      ]
     },
     "execution_count": 22,
     "metadata": {},
     "output_type": "execute_result"
    }
   ],
   "source": [
    "div.find('span',{'class':'ctt'}).get_text(strip=True).replace('\\u200b','')"
   ]
  },
  {
   "cell_type": "code",
   "execution_count": 34,
   "metadata": {},
   "outputs": [
    {
     "data": {
      "text/plain": [
       "['2017-10-04 16:30:22', '来自政务直通车']"
      ]
     },
     "execution_count": 34,
     "metadata": {},
     "output_type": "execute_result"
    }
   ],
   "source": [
    "div.find('span',{'class':'ct'}).get_text(strip=True).split('\\xa0')"
   ]
  },
  {
   "cell_type": "code",
   "execution_count": 53,
   "metadata": {},
   "outputs": [
    {
     "data": {
      "text/plain": [
       "'20 10-20-30'"
      ]
     },
     "execution_count": 53,
     "metadata": {},
     "output_type": "execute_result"
    }
   ],
   "source": [
    "a = \"月 10-20-30\"\n",
    "a.replace('\\u6708','20')"
   ]
  },
  {
   "cell_type": "code",
   "execution_count": 43,
   "metadata": {},
   "outputs": [
    {
     "data": {
      "text/plain": [
       "'2018-10-30'"
      ]
     },
     "execution_count": 43,
     "metadata": {},
     "output_type": "execute_result"
    }
   ],
   "source": [
    "import datetime\n",
    "import time\n",
    "time.strftime('%Y-%m-%d',time.localtime(time.time()))\n"
   ]
  },
  {
   "cell_type": "code",
   "execution_count": 54,
   "metadata": {},
   "outputs": [
    {
     "data": {
      "text/plain": [
       "'分钟前'"
      ]
     },
     "execution_count": 54,
     "metadata": {},
     "output_type": "execute_result"
    }
   ],
   "source": [
    "'\\u5206\\u949f\\u524d'"
   ]
  },
  {
   "cell_type": "code",
   "execution_count": 101,
   "metadata": {},
   "outputs": [
    {
     "data": {
      "text/plain": [
       "'\\u200b'"
      ]
     },
     "execution_count": 101,
     "metadata": {},
     "output_type": "execute_result"
    }
   ],
   "source": [
    "str('\\u200b')"
   ]
  },
  {
   "cell_type": "code",
   "execution_count": 8,
   "metadata": {},
   "outputs": [],
   "source": [
    "import pandas as pd\n",
    "import json\n",
    "\n",
    "d = [{'a':1,'b':2},{'a':3,'b':4}]\n",
    "j = json.dumps(d)\n",
    "jj = json.loads(j)\n",
    "with open('abc.txt','at') as f:\n",
    "    f.write(j)"
   ]
  },
  {
   "cell_type": "code",
   "execution_count": 11,
   "metadata": {},
   "outputs": [
    {
     "data": {
      "text/plain": [
       "[1, 2]"
      ]
     },
     "execution_count": 11,
     "metadata": {},
     "output_type": "execute_result"
    }
   ],
   "source": [
    "list(d[0].values())"
   ]
  },
  {
   "cell_type": "code",
   "execution_count": 14,
   "metadata": {},
   "outputs": [
    {
     "data": {
      "text/plain": [
       "'来'"
      ]
     },
     "execution_count": 14,
     "metadata": {},
     "output_type": "execute_result"
    }
   ],
   "source": [
    "'\\u6765'"
   ]
  },
  {
   "cell_type": "code",
   "execution_count": null,
   "metadata": {},
   "outputs": [],
   "source": []
  }
 ],
 "metadata": {
  "kernelspec": {
   "display_name": "Python 3",
   "language": "python",
   "name": "python3"
  },
  "language_info": {
   "codemirror_mode": {
    "name": "ipython",
    "version": 3
   },
   "file_extension": ".py",
   "mimetype": "text/x-python",
   "name": "python",
   "nbconvert_exporter": "python",
   "pygments_lexer": "ipython3",
   "version": "3.6.4"
  }
 },
 "nbformat": 4,
 "nbformat_minor": 2
}
